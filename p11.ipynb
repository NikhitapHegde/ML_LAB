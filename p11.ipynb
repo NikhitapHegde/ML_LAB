{
 "cells": [
  {
   "cell_type": "code",
   "execution_count": 3,
   "id": "6e22f4c0",
   "metadata": {},
   "outputs": [
    {
     "name": "stdout",
     "output_type": "stream",
     "text": [
      "perceptron and predictions\n",
      "[[0]\n",
      " [0]\n",
      " [0]\n",
      " [1]]\n",
      "perceptron or predictions\n",
      "[[0]\n",
      " [1]\n",
      " [1]\n",
      " [1]]\n"
     ]
    }
   ],
   "source": [
    "import numpy as np\n",
    "\n",
    "def step_function(x):\n",
    "    return np.where(x>=0,1,0)\n",
    "\n",
    "X_and=np.array([[0,0],[0,1],[1,0],[1,1]])\n",
    "y_and=np.array([[0],[0],[0],[1]])\n",
    "\n",
    "X_or=np.array([[0,0],[0,1],[1,0],[1,1]])\n",
    "y_or=np.array([[0],[1],[1],[1]])\n",
    "\n",
    "class perceptron:\n",
    "    def __init__(self,input_size,learning_rate=0.1,epochs=1000):\n",
    "        self.weights=np.zeros((input_size,1))\n",
    "        self.bias=0\n",
    "        self.learning_rate=learning_rate\n",
    "        self.epochs=epochs\n",
    "    \n",
    "    def train(self,X,y):\n",
    "        for _ in range(self.epochs):\n",
    "            for inputs,labels in zip(X,y):\n",
    "                inputs=inputs.reshape(-1,1)\n",
    "                linear_output=np.dot(inputs.T,self.weights)+self.bias\n",
    "                prediction=step_function(linear_output)\n",
    "                error=labels-prediction\n",
    "                self.weights+=self.learning_rate*error*inputs\n",
    "                self.bias+=self.learning_rate*error\n",
    "                \n",
    "    def predict(self,X):\n",
    "        linear_output=np.dot(X,self.weights)+self.bias\n",
    "        return step_function(linear_output)\n",
    "    \n",
    "    \n",
    "perceptron_and=perceptron(input_size=2)\n",
    "perceptron_and.train(X_and,y_and)\n",
    "\n",
    "perceptron_or=perceptron(input_size=2)\n",
    "perceptron_or.train(X_or,y_or)\n",
    "\n",
    "print(\"perceptron and predictions\")\n",
    "print(perceptron_and.predict(X_and))\n",
    "\n",
    "print(\"perceptron or predictions\")\n",
    "print(perceptron_or.predict(X_or))"
   ]
  },
  {
   "cell_type": "code",
   "execution_count": 6,
   "id": "0064ae11",
   "metadata": {},
   "outputs": [
    {
     "name": "stdout",
     "output_type": "stream",
     "text": [
      "and results:\n",
      "[[0]\n",
      " [0]\n",
      " [0]\n",
      " [1]]\n",
      "or results:\n",
      "[[0]\n",
      " [1]\n",
      " [1]\n",
      " [1]]\n"
     ]
    }
   ],
   "source": [
    "import numpy as np\n",
    "\n",
    "def step_function(x):\n",
    "    return np.where(x>=0,1,0)\n",
    "\n",
    "\n",
    "x_and=np.array([[0,0],[0,1],[1,0],[1,1]])\n",
    "y_and=np.array([[0],[0],[0],[1]])\n",
    "\n",
    "x_or=np.array([[0,0],[0,1],[1,0],[1,1]])\n",
    "y_or=np.array([[0],[1],[1],[1]])\n",
    "\n",
    "\n",
    "class perceptron:\n",
    "    def __init__(self,input_size,learning_rate=0.5,epochs=100):\n",
    "        self.weights=np.zeros((input_size,1))\n",
    "        self.bias=0\n",
    "        self.learning_rate=learning_rate\n",
    "        self.epochs=epochs\n",
    "        \n",
    "    def train(self,X,y):\n",
    "        for _ in range(self.epochs):\n",
    "            for inputs,labels in zip(X,y):\n",
    "                inputs=inputs.reshape(-1,1)\n",
    "                linear_output=np.dot(inputs.T,self.weights)+self.bias\n",
    "                predictions=step_function(linear_output)\n",
    "                error=labels-predictions\n",
    "                self.weights+=self.learning_rate*error*inputs\n",
    "                self.bias+=self.learning_rate*error\n",
    "                \n",
    "    def predict(self,X):\n",
    "        linear_output=np.dot(X,self.weights)+self.bias\n",
    "        return step_function(linear_output)\n",
    "    \n",
    "perceptron_and=perceptron(input_size=2)\n",
    "perceptron_and.train(x_and,y_and)\n",
    "\n",
    "perceptron_or=perceptron(input_size=2)\n",
    "perceptron_or.train(x_or,y_or)\n",
    "\n",
    "print(\"and results:\")\n",
    "prediction=perceptron_and.predict(x_and)\n",
    "print(prediction)\n",
    "\n",
    "print(\"or results:\")\n",
    "print(perceptron_or.predict(x_or))\n",
    "                \n"
   ]
  },
  {
   "cell_type": "code",
   "execution_count": null,
   "id": "1b2c59cf",
   "metadata": {},
   "outputs": [],
   "source": []
  },
  {
   "cell_type": "code",
   "execution_count": null,
   "id": "27d16898",
   "metadata": {},
   "outputs": [],
   "source": []
  }
 ],
 "metadata": {
  "kernelspec": {
   "display_name": "Python 3 (ipykernel)",
   "language": "python",
   "name": "python3"
  },
  "language_info": {
   "codemirror_mode": {
    "name": "ipython",
    "version": 3
   },
   "file_extension": ".py",
   "mimetype": "text/x-python",
   "name": "python",
   "nbconvert_exporter": "python",
   "pygments_lexer": "ipython3",
   "version": "3.11.3"
  }
 },
 "nbformat": 4,
 "nbformat_minor": 5
}
